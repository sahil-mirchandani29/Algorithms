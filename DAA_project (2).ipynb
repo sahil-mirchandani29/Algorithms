{
  "nbformat": 4,
  "nbformat_minor": 0,
  "metadata": {
    "colab": {
      "name": "DAA_project.ipynb",
      "provenance": [],
      "collapsed_sections": []
    },
    "kernelspec": {
      "name": "python3",
      "display_name": "Python 3"
    }
  },
  "cells": [
    {
      "cell_type": "code",
      "metadata": {
        "id": "WIhZZbxGpPJZ",
        "colab_type": "code",
        "outputId": "0fe199d2-75ba-468f-aa7a-d7a4c040b277",
        "colab": {
          "base_uri": "https://localhost:8080/",
          "height": 139
        }
      },
      "source": [
        "!pip install -U googlemaps"
      ],
      "execution_count": 10,
      "outputs": [
        {
          "output_type": "stream",
          "text": [
            "Requirement already up-to-date: googlemaps in /usr/local/lib/python3.6/dist-packages (4.2.0)\n",
            "Requirement already satisfied, skipping upgrade: requests<3.0,>=2.20.0 in /usr/local/lib/python3.6/dist-packages (from googlemaps) (2.21.0)\n",
            "Requirement already satisfied, skipping upgrade: chardet<3.1.0,>=3.0.2 in /usr/local/lib/python3.6/dist-packages (from requests<3.0,>=2.20.0->googlemaps) (3.0.4)\n",
            "Requirement already satisfied, skipping upgrade: certifi>=2017.4.17 in /usr/local/lib/python3.6/dist-packages (from requests<3.0,>=2.20.0->googlemaps) (2020.4.5.1)\n",
            "Requirement already satisfied, skipping upgrade: idna<2.9,>=2.5 in /usr/local/lib/python3.6/dist-packages (from requests<3.0,>=2.20.0->googlemaps) (2.8)\n",
            "Requirement already satisfied, skipping upgrade: urllib3<1.25,>=1.21.1 in /usr/local/lib/python3.6/dist-packages (from requests<3.0,>=2.20.0->googlemaps) (1.24.3)\n"
          ],
          "name": "stdout"
        }
      ]
    },
    {
      "cell_type": "code",
      "metadata": {
        "id": "lJ5jwSIcpxRA",
        "colab_type": "code",
        "colab": {}
      },
      "source": [
        "import googlemaps\n",
        "from geopy.distance import geodesic\n",
        "gmaps = googlemaps.Client(key='<put your api key>')"
      ],
      "execution_count": 0,
      "outputs": []
    },
    {
      "cell_type": "code",
      "metadata": {
        "id": "9ToANeOOgajG",
        "colab_type": "code",
        "colab": {}
      },
      "source": [
        "\n",
        "def makeOrder(address,order=[]):\n",
        "  lowest=float(\"inf\")\n",
        "  selected=address\n",
        "  order.append(address)\n",
        "  start_location = gmaps.geocode(address)\n",
        "  you = (str(start_location[0]['geometry']['location']['lat'])+\",\"+str(start_location[0]['geometry']['location']['lng']))\n",
        "  for midpoint in cluster:\n",
        "    if(midpoint not in order):\n",
        "      end_location = gmaps.geocode(midpoint)\n",
        "      me = (str(end_location[0]['geometry']['location']['lat'])+\",\"+str(end_location[0]['geometry']['location']['lng']))\n",
        "      miles = geodesic(me,you).miles\n",
        "      if(miles < lowest):\n",
        "        lowest = miles\n",
        "        selected = midpoint\n",
        "  if(len(order) < len(cluster)):\n",
        "    makeOrder(selected,order) \n",
        "  return order"
      ],
      "execution_count": 0,
      "outputs": []
    },
    {
      "cell_type": "code",
      "metadata": {
        "id": "MQ7Jw54Ajc66",
        "colab_type": "code",
        "colab": {}
      },
      "source": [
        "def sortClusters(midpoint,miniCluster):\n",
        "    start_location = gmaps.geocode(midpoint)\n",
        "    you = (str(start_location[0]['geometry']['location']['lat'])+\",\"+str(start_location[0]['geometry']['location']['lng']))\n",
        "    mile=[]\n",
        "    for points in miniCluster:\n",
        "        end_location = gmaps.geocode(points)\n",
        "        me = (str(end_location[0]['geometry']['location']['lat'])+\",\"+str(end_location[0]['geometry']['location']['lng']))\n",
        "        miles = geodesic(me,you).miles\n",
        "        mile.append(miles)\n",
        "    sorted_order=[x for _,x in sorted(zip(mile,miniCluster))]\n",
        "    return list(sorted_order)"
      ],
      "execution_count": 0,
      "outputs": []
    },
    {
      "cell_type": "code",
      "metadata": {
        "id": "2VQ1Irt_NCnO",
        "colab_type": "code",
        "colab": {}
      },
      "source": [
        "def calculateMiles(file):\n",
        "    f=open(file,'r')\n",
        "    total_miles=0\n",
        "    previous=\"\"\n",
        "    previous_position=\"\"\n",
        "    current_position=\"\"\n",
        "    current=\"\"\n",
        "    for i in f.readlines():\n",
        "        current=gmaps.geocode(i)\n",
        "        current_position = (str(current[0]['geometry']['location']['lat'])+\",\"+str(current[0]['geometry']['location']['lng']))\n",
        "        if(previous != \"\"):\n",
        "            miles = geodesic(previous_position,current_position).miles\n",
        "            total_miles +=miles\n",
        "        previous = current\n",
        "        previous_position=current_position\n",
        "    return(total_miles)\n",
        "\n"
      ],
      "execution_count": 0,
      "outputs": []
    },
    {
      "cell_type": "code",
      "metadata": {
        "id": "TCwqp67LKQ4r",
        "colab_type": "code",
        "colab": {}
      },
      "source": [
        "cluster={}\n",
        "f=open(\"address.txt\",'r')\n",
        "for addresses in f.readlines():\n",
        "  flag=0\n",
        "  if cluster == {}:\n",
        "    flag=1\n",
        "    cluster[addresses]=[]\n",
        "  else:\n",
        "    for i in cluster:\n",
        "      current_location = gmaps.geocode(addresses)\n",
        "      midpoint = gmaps.geocode(i)\n",
        "      you = (str(current_location[0]['geometry']['location']['lat'])+\",\"+str(current_location[0]['geometry']['location']['lng']))\n",
        "      me = (str(midpoint[0]['geometry']['location']['lat'])+\",\"+str(midpoint[0]['geometry']['location']['lng']))\n",
        "      miles = geodesic(me,you).miles\n",
        "      if(miles <= 1.0):\n",
        "        cluster[i].append(addresses)\n",
        "        flag=1\n",
        "        break\n",
        "  if(flag == 0):\n",
        "      cluster[addresses]=[]"
      ],
      "execution_count": 0,
      "outputs": []
    },
    {
      "cell_type": "code",
      "metadata": {
        "id": "PNflwLVKMcJq",
        "colab_type": "code",
        "outputId": "89bc8cf2-caae-499b-c157-d8f48e0ec3a3",
        "colab": {
          "base_uri": "https://localhost:8080/",
          "height": 34
        }
      },
      "source": [
        "p=makeOrder(list(cluster.keys())[0],[])\n",
        "for c in p:\n",
        "    cluster[c]=sortClusters(c,list(cluster[c]))\n",
        "final_list=[]\n",
        "for c in p:\n",
        "    final_list.append(c)\n",
        "    for i in cluster[c]:\n",
        "        final_list.append(i)\n",
        "out=open(\"result.txt\",\"w\")\n",
        "for line in final_list:\n",
        "    out.write(line)\n",
        "out.close()\n",
        "\n",
        "print(\"we have reduced miles from \"+str(calculateMiles(\"address.txt\"))+\" miles to \"+ str(calculateMiles(\"result.txt\"))+\" miles\")"
      ],
      "execution_count": 17,
      "outputs": [
        {
          "output_type": "stream",
          "text": [
            "we have reduced miles from 472.3763569363071 miles to 121.81393022374365 miles\n"
          ],
          "name": "stdout"
        }
      ]
    },
    {
      "cell_type": "code",
      "metadata": {
        "id": "4zAc08nzOsXM",
        "colab_type": "code",
        "colab": {}
      },
      "source": [
        ""
      ],
      "execution_count": 0,
      "outputs": []
    }
  ]
}