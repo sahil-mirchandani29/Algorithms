{
  "nbformat": 4,
  "nbformat_minor": 0,
  "metadata": {
    "kernelspec": {
      "display_name": "Python 3",
      "language": "python",
      "name": "python3"
    },
    "language_info": {
      "codemirror_mode": {
        "name": "ipython",
        "version": 3
      },
      "file_extension": ".py",
      "mimetype": "text/x-python",
      "name": "python",
      "nbconvert_exporter": "python",
      "pygments_lexer": "ipython3",
      "version": "3.7.4"
    },
    "colab": {
      "name": "Solution.ipynb",
      "provenance": [],
      "collapsed_sections": []
    }
  },
  "cells": [
    {
      "cell_type": "code",
      "metadata": {
        "id": "maJpIIzMRg_A",
        "colab_type": "code",
        "colab": {}
      },
      "source": [
        "import pandas as pd\n",
        "import numpy as np\n",
        "import math"
      ],
      "execution_count": 0,
      "outputs": []
    },
    {
      "cell_type": "code",
      "metadata": {
        "id": "QEMerasrRg_K",
        "colab_type": "code",
        "colab": {}
      },
      "source": [
        "df=pd.read_csv(r'training_set.csv')\n",
        "temp=0"
      ],
      "execution_count": 0,
      "outputs": []
    },
    {
      "cell_type": "code",
      "metadata": {
        "id": "gFcIwFwDRg_N",
        "colab_type": "code",
        "colab": {}
      },
      "source": [
        "def FindGain(data):\n",
        "    y = data[(data.columns)[(len(data.columns)-1)]]\n",
        "    x=data.drop(columns = (data.columns)[(len(data.columns)-1)], inplace = False)\n",
        "    y_classes=findNumberOfClasses(y)\n",
        "    y_entropy=0\n",
        "    Y_={class_ : 0 for class_ in y_classes}\n",
        "    for i in y:\n",
        "        Y_[i] +=1\n",
        "    total=len(y)\n",
        "    for i in y_classes:\n",
        "        y_entropy += -(Y_[i]/total)*math.log2(Y_[i]/total)\n",
        "    #print(y_entropy)\n",
        "    x_gain=[]\n",
        "    for column in x:\n",
        "        entropy = FindEntropy(x[column],y)\n",
        "        Information_gain = y_entropy - entropy\n",
        "        x_gain.append(Information_gain)\n",
        "    return x_gain"
      ],
      "execution_count": 0,
      "outputs": []
    },
    {
      "cell_type": "code",
      "metadata": {
        "id": "geZVvwWPRg_R",
        "colab_type": "code",
        "colab": {}
      },
      "source": [
        "def exit_status(y,total):\n",
        "    for key,value in y:\n",
        "        temp=(value/total)*100\n",
        "        if(value > 90):\n",
        "            return key\n",
        "    return -1"
      ],
      "execution_count": 0,
      "outputs": []
    },
    {
      "cell_type": "code",
      "metadata": {
        "id": "EaHGQbIVRg_U",
        "colab_type": "code",
        "colab": {}
      },
      "source": [
        "def totalDict(data):\n",
        "    sum_=0\n",
        "    for i in data:\n",
        "        sum_ +=data[i]\n",
        "    return sum_"
      ],
      "execution_count": 0,
      "outputs": []
    },
    {
      "cell_type": "code",
      "metadata": {
        "id": "TRUsKYtORg_Y",
        "colab_type": "code",
        "colab": {}
      },
      "source": [
        "def FindEntropy(x,y):\n",
        "    x_classes=findNumberOfClasses(x)\n",
        "    x_noOfClass=len(x_classes)\n",
        "    y_classes=findNumberOfClasses(y)\n",
        "    y_noOfClass=len(y_classes)\n",
        "    I=0\n",
        "    X_=dict()\n",
        "    for C in x_classes: \n",
        "        X_[C]={class_ : 0 for class_ in y_classes}\n",
        "    for i in range(0,(len(x)-1)):\n",
        "        X_[x[i]][y[i]] +=1\n",
        "    Entropy=np.zeros(x_noOfClass+1)\n",
        "    #print(X_)\n",
        "    for i in x_classes:\n",
        "        total = totalDict(X_[i])\n",
        "        Entropy[i] = 0\n",
        "        #print(total)\n",
        "        for j in X_[i]:\n",
        "            if(X_[i][j] !=0):\n",
        "                Entropy[i] += -(X_[i][j]/total)*math.log2(X_[i][j]/total)\n",
        "                #print(X_[i][j])\n",
        "        I+=Entropy[i]*(total/len(x))\n",
        "        #print(Entropy[i])\n",
        "    return I    "
      ],
      "execution_count": 0,
      "outputs": []
    },
    {
      "cell_type": "code",
      "metadata": {
        "id": "nWvxj1asRg_j",
        "colab_type": "code",
        "colab": {}
      },
      "source": [
        "def findNumberOfClasses(x):\n",
        "    class_=[]\n",
        "    for i in x:\n",
        "        if i not in class_:\n",
        "            class_.append(i)\n",
        "    class_.sort()\n",
        "    return class_"
      ],
      "execution_count": 0,
      "outputs": []
    },
    {
      "cell_type": "code",
      "metadata": {
        "id": "esAVV4tJRg_t",
        "colab_type": "code",
        "colab": {}
      },
      "source": [
        "\n",
        "def Build_nodes(dat,tree=None,temp=0):\n",
        "    \n",
        "    y_name=(dat.columns)[(len(dat.columns)-1)]\n",
        "    y_class=dat[y_name]\n",
        "    Gain=FindGain(dat)\n",
        "    node= dat.columns[Gain.index(max(Gain))]\n",
        "    if tree is None:\n",
        "        tree={}\n",
        "    attribute_value= findNumberOfClasses(dat[node])\n",
        "    d=dat.drop(columns=node,inplace=False)\n",
        "    for attributes in attribute_value:\n",
        "        for i in range(0,temp):\n",
        "            print(\"|\",end='')\n",
        "        print(str(node)+\"-->\"+str(attributes)+\": \",end='')\n",
        "        subclass=d[dat[node]==attributes].reset_index(drop = True, inplace=False)\n",
        "        column_value, counts = np.unique((d[y_name]), return_counts=True)\n",
        "        if(column_value.size == 1 or len(counts) == 1 or d.columns.size == 1):\n",
        "            temp =temp-1\n",
        "            print(column_value[0])\n",
        "            return column_value[0]\n",
        "        else:\n",
        "            print()\n",
        "            temp+=1\n",
        "            tree[node]={attributes:Build_nodes(subclass,tree,temp)}\n",
        "            temp -=1\n",
        "            continue\n",
        "    return tree\n",
        "    "
      ],
      "execution_count": 0,
      "outputs": []
    },
    {
      "cell_type": "code",
      "metadata": {
        "id": "UoEYdE3JRg_w",
        "colab_type": "code",
        "colab": {
          "base_uri": "https://localhost:8080/",
          "height": 1000
        },
        "outputId": "b154326c-cd53-49ea-bc88-5f4b68912234"
      },
      "source": [
        "tree=Build_nodes(df)"
      ],
      "execution_count": 9,
      "outputs": [
        {
          "output_type": "stream",
          "text": [
            "XI-->0: \n",
            "|XH-->0: \n",
            "||XB-->0: 0\n",
            "|XH-->1: \n",
            "||XB-->0: \n",
            "|||XC-->0: 0\n",
            "||XB-->1: \n",
            "|||XN-->0: \n",
            "||||XC-->0: 0\n",
            "|||XN-->1: \n",
            "||||XK-->0: \n",
            "|||||XC-->0: 0\n",
            "||||XK-->1: \n",
            "|||||XC-->0: \n",
            "||||||XD-->1: 1\n",
            "|||||XC-->1: \n",
            "||||||XD-->0: 0\n",
            "XI-->1: \n",
            "|XH-->0: \n",
            "||XP-->0: \n",
            "|||XB-->0: 0\n",
            "||XP-->1: \n",
            "|||XG-->0: \n",
            "||||XT-->0: \n",
            "|||||XB-->0: 0\n",
            "||||XT-->1: \n",
            "|||||XK-->0: \n",
            "||||||XB-->0: 1\n",
            "|||||XK-->1: \n",
            "||||||XB-->0: 0\n",
            "|||XG-->1: \n",
            "||||XB-->0: 0\n",
            "|XH-->1: \n",
            "||XC-->0: \n",
            "|||XN-->0: \n",
            "||||XD-->0: \n",
            "|||||XP-->0: \n",
            "||||||XO-->0: \n",
            "|||||||XJ-->0: \n",
            "||||||||XB-->0: \n",
            "|||||||||XE-->1: 1\n",
            "||||||||XB-->1: \n",
            "|||||||||XE-->0: \n",
            "||||||||||XF-->1: 1\n",
            "|||||||||XE-->1: \n",
            "||||||||||XF-->1: \n",
            "|||||||||||XG-->0: \n",
            "||||||||||||XK-->0: \n",
            "|||||||||||||XL-->1: 0\n",
            "||||||||||||XK-->1: \n",
            "|||||||||||||XL-->0: 1\n",
            "|||||||XJ-->1: \n",
            "||||||||XB-->0: 0\n",
            "||||||XO-->1: \n",
            "|||||||XB-->0: 1\n",
            "|||||XP-->1: \n",
            "||||||XB-->0: 0\n",
            "||||XD-->1: \n",
            "|||||XU-->0: \n",
            "||||||XB-->0: \n",
            "|||||||XE-->1: \n",
            "||||||||XF-->0: \n",
            "|||||||||XG-->0: \n",
            "||||||||||XJ-->1: 0\n",
            "|||||||||XG-->1: \n",
            "||||||||||XJ-->0: 1\n",
            "||||||XB-->1: \n",
            "|||||||XE-->0: 0\n",
            "|||||XU-->1: \n",
            "||||||XB-->0: 0\n",
            "|||XN-->1: \n",
            "||||XB-->0: \n",
            "|||||XL-->0: \n",
            "||||||XD-->0: 0\n",
            "|||||XL-->1: \n",
            "||||||XR-->0: \n",
            "|||||||XJ-->0: \n",
            "||||||||XD-->0: 1\n",
            "|||||||XJ-->1: \n",
            "||||||||XF-->0: \n",
            "|||||||||XD-->1: 0\n",
            "||||||||XF-->1: \n",
            "|||||||||XD-->0: 1\n",
            "||||||XR-->1: \n",
            "|||||||XM-->0: \n",
            "||||||||XD-->0: 0\n",
            "|||||||XM-->1: \n",
            "||||||||XE-->0: \n",
            "|||||||||XD-->0: 1\n",
            "||||||||XE-->1: \n",
            "|||||||||XD-->0: 0\n",
            "||||XB-->1: \n",
            "|||||XQ-->0: \n",
            "||||||XD-->0: 1\n",
            "|||||XQ-->1: \n",
            "||||||XF-->0: \n",
            "|||||||XD-->0: 0\n",
            "||||||XF-->1: \n",
            "|||||||XD-->0: \n",
            "||||||||XM-->0: \n",
            "|||||||||XE-->0: 0\n",
            "||||||||XM-->1: \n",
            "|||||||||XE-->0: 1\n",
            "|||||||XD-->1: \n",
            "||||||||XE-->0: 1\n",
            "||XC-->1: \n",
            "|||XB-->0: \n",
            "||||XG-->0: \n",
            "|||||XU-->0: \n",
            "||||||XK-->0: \n",
            "|||||||XD-->0: 1\n",
            "||||||XK-->1: \n",
            "|||||||XD-->0: 0\n",
            "|||||XU-->1: \n",
            "||||||XD-->0: 0\n",
            "||||XG-->1: \n",
            "|||||XD-->0: 0\n",
            "|||XB-->1: \n",
            "||||XD-->0: 0\n"
          ],
          "name": "stdout"
        }
      ]
    },
    {
      "cell_type": "code",
      "metadata": {
        "id": "IEidbXfXhM_c",
        "colab_type": "code",
        "colab": {}
      },
      "source": [
        ""
      ],
      "execution_count": 0,
      "outputs": []
    }
  ]
}